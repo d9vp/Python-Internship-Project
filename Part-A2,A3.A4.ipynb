{
 "cells": [
  {
   "cell_type": "markdown",
   "id": "a6326ed5",
   "metadata": {},
   "source": [
    "# Part-A2,A3.A4.ipynb"
   ]
  },
  {
   "cell_type": "code",
   "execution_count": 1,
   "id": "63a936b3",
   "metadata": {},
   "outputs": [],
   "source": [
    "import pymysql\n",
    "import tkinter\n",
    "from tkinter import * \n",
    "from tkinter import messagebox\n",
    "import pandas as pd\n",
    "from pandastable import Table, TableModel"
   ]
  },
  {
   "cell_type": "markdown",
   "id": "5e4a7efc",
   "metadata": {},
   "source": [
    "### A2) The company needs an order look up (i.e. search) based on the following criteria, \n",
    "### a) Order number b) Order Date c) Customer code"
   ]
  },
  {
   "cell_type": "code",
   "execution_count": 2,
   "id": "646996be",
   "metadata": {
    "scrolled": true
   },
   "outputs": [
    {
     "name": "stdout",
     "output_type": "stream",
     "text": [
      "Order Number:\n",
      "200135\n",
      "Order Date:\n",
      "\n",
      "Customer Code:\n",
      "\n",
      "  ORD_NUM ORD_AMOUNT ADVANCE_AMOUNT    ORD_DATE CUST_CODE AGENT_CODE  \\\n",
      "0  200135    2000.00         800.00  2008-09-16    C00007     A010     \n",
      "\n",
      "  ORD_DESCRIPTION  \n",
      "0           SOD\\r  \n"
     ]
    }
   ],
   "source": [
    "# Creating main window and setting with width and height        \n",
    "\n",
    "print(\"Order Number:\")\n",
    "ordnum=input()\n",
    "\n",
    "print(\"Order Date:\")\n",
    "orddate=input()\n",
    "\n",
    "print(\"Customer Code:\")\n",
    "custcode=input()\n",
    "\n",
    "df = TableModel.getSampleData()\n",
    "\n",
    "\n",
    "conn = pymysql.connect(user=\"root\", password=\"\", host=\"localhost\", database=\"sunville\")\n",
    "cur = conn.cursor()\n",
    "\n",
    "if ordnum==\"\":\n",
    "    if orddate==\"\":\n",
    "        if custcode==\"\":\n",
    "            query = (\"select * from orders\")\n",
    "            cur.execute(query)\n",
    "        else:\n",
    "            query = (\"select * from orders WHERE CUST_CODE=%s\")\n",
    "            cur.execute(query,(custcode))    \n",
    "    else:\n",
    "        if custcode==\"\":\n",
    "            query = (\"select * from orders WHERE ORD_DATE=%s\")\n",
    "            cur.execute(query,(orddate))\n",
    "        else:\n",
    "            query = (\"select * from orders WHERE ORD_DATE=%s and CUST_CODE=%s\")\n",
    "            cur.execute(query,(orddate,custcode)) \n",
    "else:\n",
    "    if orddate==\"\":\n",
    "        if custcode==\"\":\n",
    "            query = (\"select * from orders WHERE ORD_NUM = %s\")\n",
    "            cur.execute(query,(ordnum))\n",
    "        else:\n",
    "            query = (\"select * from orders WHERE ORD_NUM = %s and CUST_CODE=%s\")\n",
    "            cur.execute(query,(ordnum,custcode))    \n",
    "    else:\n",
    "        if custcode==\"\":\n",
    "            query = (\"select * from orders WHERE ORD_NUM = %s and ORD_DATE=%s\")\n",
    "            cur.execute(query,(ordnum, orddate))\n",
    "        else:\n",
    "            query = (\"select * from orders WHERE ORD_NUM = %s and ORD_DATE=%s and CUST_CODE=%s\")\n",
    "            cur.execute(query,(ordnum, orddate,custcode)) \n",
    "\n",
    "df = pd.DataFrame(list(cur.fetchall()),columns =['ORD_NUM','ORD_AMOUNT','ADVANCE_AMOUNT','ORD_DATE','CUST_CODE','AGENT_CODE','ORD_DESCRIPTION'])\n",
    "print (df)   \n",
    "\n",
    "conn.close()"
   ]
  },
  {
   "cell_type": "markdown",
   "id": "e943e2f1",
   "metadata": {},
   "source": [
    "### A3) Generate a report that highlights the balance amounts for all orders in descending order. Do mention the name and code of the agent handling the order. "
   ]
  },
  {
   "cell_type": "code",
   "execution_count": 3,
   "id": "9ed64fdd",
   "metadata": {},
   "outputs": [
    {
     "name": "stdout",
     "output_type": "stream",
     "text": [
      "   ORD_NUM ORD_AMOUNT ADVANCE_AMOUNT AGENT_CODE  \\\n",
      "0   200107    4500.00         900.00     A010     \n",
      "1   200108    4000.00         600.00     A004     \n",
      "2   200113    4000.00         600.00     A002     \n",
      "3   200119    4000.00         700.00     A010     \n",
      "4   200109    3500.00         800.00     A010     \n",
      "5   200110    3000.00         500.00     A010     \n",
      "6   200134    4200.00        1800.00     A005     \n",
      "7   200122    2500.00         400.00     A004     \n",
      "8   200127    2500.00         400.00     A003     \n",
      "9   200130    2500.00         400.00     A011     \n",
      "10  200105    2500.00         500.00     A011     \n",
      "11  200128    3500.00        1500.00     A002     \n",
      "12  200129    2500.00         500.00     A006     \n",
      "13  200101    3000.00        1000.00     A008     \n",
      "14  200106    2500.00         700.00     A002     \n",
      "15  200102    2000.00         300.00     A012     \n",
      "16  200112    2000.00         400.00     A007     \n",
      "17  200114    3500.00        2000.00     A008     \n",
      "18  200125    2000.00         600.00     A005     \n",
      "19  200135    2000.00         800.00     A010     \n",
      "20  200104    1500.00         500.00     A004     \n",
      "21  200121    1500.00         600.00     A004     \n",
      "22  200103    1500.00         700.00     A005     \n",
      "23  200133    1200.00         400.00     A002     \n",
      "24  200131     900.00         150.00     A012     \n",
      "25  200111    1000.00         300.00     A008     \n",
      "26  200117     800.00         200.00     A001     \n",
      "27  200126     500.00         100.00     A002     \n",
      "28  200124     500.00         100.00     A007     \n",
      "29  200116     500.00         100.00     A009     \n",
      "30  200120     500.00         100.00     A002     \n",
      "31  200118     500.00         100.00     A006     \n",
      "32  200123     500.00         100.00     A002     \n",
      "33  200100    1000.00         600.00     A003     \n",
      "\n",
      "                                  AGENT_NAME  \n",
      "0   Santakumar                                \n",
      "1   Ivan                                      \n",
      "2   Mukesh                                    \n",
      "3   Santakumar                                \n",
      "4   Santakumar                                \n",
      "5   Santakumar                                \n",
      "6   Anderson                                  \n",
      "7   Ivan                                      \n",
      "8   Alex                                      \n",
      "9   Ravi Kumar                                \n",
      "10  Ravi Kumar                                \n",
      "11  Mukesh                                    \n",
      "12  McDen                                     \n",
      "13  Alford                                    \n",
      "14  Mukesh                                    \n",
      "15  Lucida                                    \n",
      "16  Ramasundar                                \n",
      "17  Alford                                    \n",
      "18  Anderson                                  \n",
      "19  Santakumar                                \n",
      "20  Ivan                                      \n",
      "21  Ivan                                      \n",
      "22  Anderson                                  \n",
      "23  Mukesh                                    \n",
      "24  Lucida                                    \n",
      "25  Alford                                    \n",
      "26  Subbarao                                  \n",
      "27  Mukesh                                    \n",
      "28  Ramasundar                                \n",
      "29  Benjamin                                  \n",
      "30  Mukesh                                    \n",
      "31  McDen                                     \n",
      "32  Mukesh                                    \n",
      "33  Alex                                      \n"
     ]
    }
   ],
   "source": [
    "# Creating main window and setting with width and height        \n",
    "\n",
    "df = TableModel.getSampleData()\n",
    "\n",
    "conn = pymysql.connect(user=\"root\", password=\"\", host=\"localhost\", database=\"sunville\")\n",
    "cur = conn.cursor()\n",
    "    \n",
    "# query = (\"\"\"CREATE TABLE balance\n",
    "#       AS (SELECT orders.ORD_NUM, orders.ORD_AMOUNT, orders.ADVANCE_AMOUNT, orders.AGENT_CODE, agents.AGENT_NAME\n",
    "#       FROM orders, agents\n",
    "#       WHERE orders.AGENT_CODE = agents.AGENT_CODE)\"\"\")\n",
    "# cur.execute(query)  \n",
    "\n",
    "query=\"select * from balance ORDER BY (ORD_AMOUNT - ADVANCE_AMOUNT) DESC\"\n",
    "cur.execute(query)  \n",
    "df = pd.DataFrame(list(cur.fetchall()),columns =['ORD_NUM','ORD_AMOUNT','ADVANCE_AMOUNT','AGENT_CODE','AGENT_NAME'])\n",
    "print (df)   \n",
    "\n",
    "conn.close()"
   ]
  },
  {
   "cell_type": "markdown",
   "id": "47b188b2",
   "metadata": {},
   "source": [
    "### A4) Which is the country with maximum number of registered customer and what is the collective payment amount and outstanding amount for all these customers collectively.\n"
   ]
  },
  {
   "cell_type": "code",
   "execution_count": 4,
   "id": "415599b2",
   "metadata": {},
   "outputs": [
    {
     "name": "stdout",
     "output_type": "stream",
     "text": [
      "   CUST_CODE CUST_COUNTRY PAYMENT_AMT OUTSTANDING_AMT\n",
      "0     C00013           UK     7000.00         4000.00\n",
      "1     C00001          USA     2000.00         6000.00\n",
      "2     C00020          USA     6000.00         6000.00\n",
      "3     C00025        India     4000.00         8000.00\n",
      "4     C00024           UK     7000.00         6000.00\n",
      "5     C00015           UK     3000.00        11000.00\n",
      "6     C00002          USA     9000.00         3000.00\n",
      "7     C00018    Australia     9000.00         5000.00\n",
      "8     C00021    Australia     7000.00         7000.00\n",
      "9     C00019        India     7000.00         8000.00\n",
      "10    C00005        India     7000.00        11000.00\n",
      "11    C00007        India     9000.00         9000.00\n",
      "12    C00022        India     9000.00         9000.00\n",
      "13    C00004    Australia     7000.00         6000.00\n",
      "14    C00023           UK     7000.00         3000.00\n",
      "15    C00006       Canada     6000.00        11000.00\n",
      "16    C00010           UK     5000.00         5000.00\n",
      "17    C00017        India     3000.00         9000.00\n",
      "18    C00012          USA     9000.00         3000.00\n",
      "19    C00008       Canada     9000.00         5000.00\n",
      "20    C00003       Canada     7000.00         8000.00\n",
      "21    C00009        India     3000.00        12000.00\n",
      "22    C00014        India     7000.00        12000.00\n",
      "23    C00016        India     7000.00        12000.00\n",
      "24    C00011        India     7000.00        11000.00\n"
     ]
    }
   ],
   "source": [
    "# Creating main window and setting with width and height        \n",
    "\n",
    "df = TableModel.getSampleData()\n",
    "\n",
    "conn = pymysql.connect(user=\"root\", password=\"\", host=\"localhost\", database=\"sunville\")\n",
    "cur = conn.cursor()\n",
    "    \n",
    "query=\"select CUST_CODE, CUST_COUNTRY,PAYMENT_AMT,OUTSTANDING_AMT from customer\"\n",
    "cur.execute(query)  \n",
    "df = pd.DataFrame(list(cur.fetchall()),columns =['CUST_CODE', 'CUST_COUNTRY','PAYMENT_AMT','OUTSTANDING_AMT'])\n",
    "print (df)   \n",
    "\n",
    "conn.close()"
   ]
  },
  {
   "cell_type": "code",
   "execution_count": 5,
   "id": "8acb7a92",
   "metadata": {},
   "outputs": [],
   "source": [
    "cust_country = df.groupby(\"CUST_COUNTRY\")"
   ]
  },
  {
   "cell_type": "code",
   "execution_count": 6,
   "id": "6797a805",
   "metadata": {},
   "outputs": [
    {
     "data": {
      "text/plain": [
       "CUST_COUNTRY\n",
       "Australia     3\n",
       "Canada        3\n",
       "India        10\n",
       "UK            5\n",
       "USA           4\n",
       "Name: CUST_CODE, dtype: int64"
      ]
     },
     "execution_count": 6,
     "metadata": {},
     "output_type": "execute_result"
    }
   ],
   "source": [
    "cust_country['CUST_CODE'].count()"
   ]
  },
  {
   "cell_type": "code",
   "execution_count": 7,
   "id": "d0877d15",
   "metadata": {},
   "outputs": [
    {
     "data": {
      "text/plain": [
       "CUST_COUNTRY\n",
       "Australia    23000.00\n",
       "Canada       22000.00\n",
       "India        63000.00\n",
       "UK           29000.00\n",
       "USA          26000.00\n",
       "Name: PAYMENT_AMT, dtype: object"
      ]
     },
     "execution_count": 7,
     "metadata": {},
     "output_type": "execute_result"
    }
   ],
   "source": [
    "cust_country['PAYMENT_AMT'].sum()"
   ]
  },
  {
   "cell_type": "code",
   "execution_count": 8,
   "id": "20d737d0",
   "metadata": {},
   "outputs": [
    {
     "data": {
      "text/plain": [
       "CUST_COUNTRY\n",
       "Australia     18000.00\n",
       "Canada        24000.00\n",
       "India        101000.00\n",
       "UK            29000.00\n",
       "USA           18000.00\n",
       "Name: OUTSTANDING_AMT, dtype: object"
      ]
     },
     "execution_count": 8,
     "metadata": {},
     "output_type": "execute_result"
    }
   ],
   "source": [
    "cust_country['OUTSTANDING_AMT'].sum()"
   ]
  }
 ],
 "metadata": {
  "kernelspec": {
   "display_name": "Python 3",
   "language": "python",
   "name": "python3"
  },
  "language_info": {
   "codemirror_mode": {
    "name": "ipython",
    "version": 3
   },
   "file_extension": ".py",
   "mimetype": "text/x-python",
   "name": "python",
   "nbconvert_exporter": "python",
   "pygments_lexer": "ipython3",
   "version": "3.8.8"
  }
 },
 "nbformat": 4,
 "nbformat_minor": 5
}
