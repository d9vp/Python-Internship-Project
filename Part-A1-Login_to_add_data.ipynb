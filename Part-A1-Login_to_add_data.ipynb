{
 "cells": [
  {
   "cell_type": "markdown",
   "id": "537d0917",
   "metadata": {},
   "source": [
    "# Part-A1-Login_to_add_data.ipynb"
   ]
  },
  {
   "cell_type": "code",
   "execution_count": 7,
   "id": "44969311",
   "metadata": {},
   "outputs": [],
   "source": [
    "import tkinter\n",
    "from tkinter import * \n",
    "from tkinter import messagebox\n",
    "from functools import partial \n",
    "import sqlite3 \n",
    "import pymysql\n",
    "from venv import create\n",
    "from tkinter.ttk import *\n",
    "from tkcalendar import Calendar, DateEntry\n",
    "import re\n",
    "from datetime import datetime\n",
    "import pandas as pd\n",
    "from pandastable import Table, TableModel\n",
    "root=None"
   ]
  },
  {
   "cell_type": "code",
   "execution_count": 8,
   "id": "192958a8",
   "metadata": {},
   "outputs": [],
   "source": [
    "def orders():\n",
    "    if(root):\n",
    "        root.mainloop()\n",
    "    %run addorders\n",
    "def agents():\n",
    "    if(root):\n",
    "        root.mainloop()\n",
    "    %run addagents\n",
    "def company():\n",
    "    if(root):\n",
    "        root.mainloop()\n",
    "    %run addcompany\n",
    "def customer():\n",
    "    if(root):\n",
    "        root.mainloop()\n",
    "    %run addcustomer"
   ]
  },
  {
   "cell_type": "code",
   "execution_count": 9,
   "id": "a350514d",
   "metadata": {},
   "outputs": [],
   "source": [
    "def options():\n",
    "    tkWd = Tk() \n",
    "    tkWd.geometry('200x150+600+300') \n",
    "    tkWd.title('Select Table to add data to')\n",
    "\n",
    "    ordersButton = Button(tkWd, text=\"Orders\", command=orders).grid(row=2, column=1) \n",
    "    agentsButton = Button(tkWd, text=\"Agents\", command=agents).grid(row=3, column=1) \n",
    "    companyButton = Button(tkWd, text=\"Company\", command=company).grid(row=4, column=1) \n",
    "    customerButton = Button(tkWd, text=\"Customer\", command=customer).grid(row=5, column=1) \n",
    "\n",
    "    tkWd.mainloop() "
   ]
  },
  {
   "cell_type": "code",
   "execution_count": 10,
   "id": "699169c3",
   "metadata": {},
   "outputs": [],
   "source": [
    "def Login(username, password): \n",
    "    c.execute(search_by_name, (username.get(),)) \n",
    "    print() \n",
    "    user = c.fetchall() \n",
    "    if len(user) == 0: \n",
    "         messagebox.showerror(\"Error\", \"User not found\") \n",
    "    else: \n",
    "        c.execute(validate , (username.get() , password.get())) \n",
    "        validated = c.fetchall() \n",
    "        if len(validated) == 0: \n",
    "            messagebox.showerror(\"Error\", \"Wrong password\") \n",
    "        else: \n",
    "            messagebox.showinfo(\"Login Done\", \"Logged in !\")\n",
    "    \n",
    "            options()"
   ]
  },
  {
   "cell_type": "code",
   "execution_count": 11,
   "id": "f5a071e0",
   "metadata": {},
   "outputs": [],
   "source": [
    "def Register(): \n",
    " \n",
    "    Window = Toplevel(tkWd) \n",
    "\n",
    "    def Submit(username, password): \n",
    "        c.execute(create_user, (username.get(), password.get(),)) \n",
    "        conn.commit() \n",
    "        if messagebox.showinfo(\"User created\" , \"Please log in !\"): \n",
    "            Window.withdraw() \n",
    "\n",
    "    Window.title(\"Register\") \n",
    "\n",
    "    # sets the geometry of toplevel \n",
    "    Window.geometry(\"300x150\") \n",
    "    # username label and text entry box \n",
    "    uLabel = Label(Window, text=\"User Name\").grid(row=0, column=0) \n",
    "    username = StringVar() \n",
    "    uEntry = Entry(Window, textvariable=username).grid(row=0, column=1) \n",
    "\n",
    "    # password label and password entry box \n",
    "    pLabel = Label(Window,text=\"Password\").grid(row=1, column=0) \n",
    "    password = StringVar() \n",
    "    pEntry = Entry(Window, textvariable=password, show='*').grid(row=1, column=1) \n",
    "    Submit = partial(Submit, username, password) \n",
    "    Button(Window, text=\"Submit\", command=Submit).grid(row=4, column=1)"
   ]
  },
  {
   "cell_type": "code",
   "execution_count": 12,
   "id": "916fddd8",
   "metadata": {},
   "outputs": [
    {
     "name": "stdout",
     "output_type": "stream",
     "text": [
      "\n"
     ]
    }
   ],
   "source": [
    "conn = sqlite3.connect('cred.db') \n",
    "c = conn.cursor() \n",
    "create_table = \"\"\"CREATE TABLE IF NOT EXISTS user(username TEXT NOT NULL, password TEXT NOT NULL)\"\"\" \n",
    "create_user = \"\"\"INSERT INTO user(username,password) VALUES(?,?)\"\"\"\n",
    "search_by_name = \"\"\"SELECT * FROM user where username=?\"\"\" \n",
    "validate = \"\"\"SELECT * FROM user where username=? and password=?\"\"\" \n",
    "c.execute(create_table)\n",
    "\n",
    "# window \n",
    "tkWd = Tk() \n",
    "tkWd.geometry('300x150+600+300') \n",
    "tkWd.title('Login App')\n",
    "\n",
    "# username label and text entry box \n",
    "uLabel = Label(tkWd, text=\"User Name\").grid(row=0, column=0) \n",
    "username = StringVar() \n",
    "uEntry = Entry(tkWd, textvariable=username).grid(row=0, column=1) \n",
    " \n",
    "# password label and password entry box \n",
    "pLabel = Label(tkWd,text=\"Password\").grid(row=1, column=0) \n",
    "password = StringVar() \n",
    "\n",
    "pEntry = Entry(tkWd, textvariable=password, show='*').grid(row=1, column=1) \n",
    " \n",
    "Login = partial(Login, username, password) \n",
    " \n",
    "# login , register buttons \n",
    "loginButton = Button(tkWd, text=\"Login\", command=Login).grid(row=4, column=1) \n",
    "regButton = Button(tkWd, text=\"Register\", command=Register).grid(row=5, column=1) \n",
    " \n",
    "tkWd.mainloop() "
   ]
  },
  {
   "cell_type": "markdown",
   "id": "dd6611f2",
   "metadata": {},
   "source": [
    "# "
   ]
  }
 ],
 "metadata": {
  "kernelspec": {
   "display_name": "Python 3",
   "language": "python",
   "name": "python3"
  },
  "language_info": {
   "codemirror_mode": {
    "name": "ipython",
    "version": 3
   },
   "file_extension": ".py",
   "mimetype": "text/x-python",
   "name": "python",
   "nbconvert_exporter": "python",
   "pygments_lexer": "ipython3",
   "version": "3.8.8"
  }
 },
 "nbformat": 4,
 "nbformat_minor": 5
}
